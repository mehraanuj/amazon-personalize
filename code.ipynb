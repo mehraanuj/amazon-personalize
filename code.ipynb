{
 "cells": [
  {
   "cell_type": "code",
   "execution_count": 3,
   "id": "f82a1612",
   "metadata": {},
   "outputs": [],
   "source": [
    "# Imports\n",
    "import boto3\n",
    "import json\n",
    "import numpy as np\n",
    "import pandas as pd\n",
    "import time\n",
    "import datetime"
   ]
  },
  {
   "cell_type": "code",
   "execution_count": 4,
   "id": "96cd7ef3",
   "metadata": {},
   "outputs": [],
   "source": [
    "# Configure the SDK to Personalize:\n",
    "personalize = boto3.client('personalize')\n",
    "personalize_runtime = boto3.client('personalize-runtime')"
   ]
  },
  {
   "cell_type": "code",
   "execution_count": 5,
   "id": "ac7f6423",
   "metadata": {},
   "outputs": [
    {
     "name": "stdout",
     "output_type": "stream",
     "text": [
      "region: ap-south-1\n",
      "bucket_name: 689478441425-ap-south-1-personalize\n"
     ]
    }
   ],
   "source": [
    "# Sets the same region as current Amazon SageMaker Notebook\n",
    "with open('/opt/ml/metadata/resource-metadata.json') as notebook_info:\n",
    "    data = json.load(notebook_info)\n",
    "    resource_arn = data['ResourceArn']\n",
    "    region = resource_arn.split(':')[3]\n",
    "print('region:', region)\n",
    "\n",
    "# Or you can specify the region where your bucket and model will be domiciled\n",
    "# region = \"us-east-1\" \n",
    "\n",
    "s3 = boto3.client('s3')\n",
    "account_id = boto3.client('sts').get_caller_identity().get('Account')\n",
    "bucket_name = account_id + \"-\" + region + \"-\" + \"personalize\"\n",
    "print('bucket_name:', bucket_name)\n",
    "\n",
    "try: \n",
    "    if region == \"us-east-1\":\n",
    "        s3.create_bucket(Bucket=bucket_name)\n",
    "    else:\n",
    "        s3.create_bucket(\n",
    "            Bucket = bucket_name,\n",
    "            CreateBucketConfiguration={'LocationConstraint': region}\n",
    "            )\n",
    "except s3.exceptions.BucketAlreadyOwnedByYou:\n",
    "    print(\"Bucket already exists. Using bucket\", bucket_name)"
   ]
  },
  {
   "cell_type": "code",
   "execution_count": 14,
   "id": "fd0fcbff",
   "metadata": {},
   "outputs": [],
   "source": [
    "df=pd.read_csv('Amazon Personalize general data.csv')\n",
    "\n",
    "df['item']=df['item'].str.lower()\n",
    "\n",
    "interactions_data=df[['Membership number','item_id','transaction date','price']]\n",
    "\n",
    "interactions_data=interactions_data.rename(columns={'Membership number':'USER_ID','item_id':'ITEM_ID',\n",
    "                                                    'transaction date':'TIMESTAMP','price':'EVENT_VALUE'})\n",
    "\n",
    "interactions_data['EVENT_TYPE']='TRANSACTION'\n",
    "\n",
    "interactions_data['TIMESTAMP']=pd.to_datetime(interactions_data['TIMESTAMP']).astype(int) / 10**9\n",
    "\n",
    "interactions_data['TIMESTAMP']=interactions_data['TIMESTAMP'].astype(int)\n",
    "\n",
    "interactions_data=interactions_data[['USER_ID','ITEM_ID','TIMESTAMP','EVENT_TYPE','EVENT_VALUE']]\n",
    "\n",
    "interactions_data.EVENT_TYPE.value_counts()"
   ]
  },
  {
   "cell_type": "code",
   "execution_count": 58,
   "id": "8adf7910",
   "metadata": {},
   "outputs": [
    {
     "data": {
      "text/html": [
       "<div>\n",
       "<style scoped>\n",
       "    .dataframe tbody tr th:only-of-type {\n",
       "        vertical-align: middle;\n",
       "    }\n",
       "\n",
       "    .dataframe tbody tr th {\n",
       "        vertical-align: top;\n",
       "    }\n",
       "\n",
       "    .dataframe thead th {\n",
       "        text-align: right;\n",
       "    }\n",
       "</style>\n",
       "<table border=\"1\" class=\"dataframe\">\n",
       "  <thead>\n",
       "    <tr style=\"text-align: right;\">\n",
       "      <th></th>\n",
       "      <th>USER_ID</th>\n",
       "      <th>ITEM_ID</th>\n",
       "      <th>TIMESTAMP</th>\n",
       "      <th>EVENT_TYPE</th>\n",
       "      <th>EVENT_VALUE</th>\n",
       "    </tr>\n",
       "  </thead>\n",
       "  <tbody>\n",
       "    <tr>\n",
       "      <th>0</th>\n",
       "      <td>203867788688</td>\n",
       "      <td>10108</td>\n",
       "      <td>1667692800</td>\n",
       "      <td>TRANSACTION</td>\n",
       "      <td>102</td>\n",
       "    </tr>\n",
       "    <tr>\n",
       "      <th>1</th>\n",
       "      <td>131861001206</td>\n",
       "      <td>10109</td>\n",
       "      <td>1612137600</td>\n",
       "      <td>TRANSACTION</td>\n",
       "      <td>565</td>\n",
       "    </tr>\n",
       "    <tr>\n",
       "      <th>2</th>\n",
       "      <td>215800110303</td>\n",
       "      <td>10103</td>\n",
       "      <td>1633737600</td>\n",
       "      <td>TRANSACTION</td>\n",
       "      <td>254</td>\n",
       "    </tr>\n",
       "    <tr>\n",
       "      <th>3</th>\n",
       "      <td>51396695047</td>\n",
       "      <td>10105</td>\n",
       "      <td>1611705600</td>\n",
       "      <td>TRANSACTION</td>\n",
       "      <td>53</td>\n",
       "    </tr>\n",
       "    <tr>\n",
       "      <th>4</th>\n",
       "      <td>70732021477</td>\n",
       "      <td>10104</td>\n",
       "      <td>1634688000</td>\n",
       "      <td>TRANSACTION</td>\n",
       "      <td>57</td>\n",
       "    </tr>\n",
       "  </tbody>\n",
       "</table>\n",
       "</div>"
      ],
      "text/plain": [
       "        USER_ID  ITEM_ID   TIMESTAMP   EVENT_TYPE  EVENT_VALUE\n",
       "0  203867788688    10108  1667692800  TRANSACTION          102\n",
       "1  131861001206    10109  1612137600  TRANSACTION          565\n",
       "2  215800110303    10103  1633737600  TRANSACTION          254\n",
       "3   51396695047    10105  1611705600  TRANSACTION           53\n",
       "4   70732021477    10104  1634688000  TRANSACTION           57"
      ]
     },
     "execution_count": 58,
     "metadata": {},
     "output_type": "execute_result"
    }
   ],
   "source": [
    "interactions_data.head()"
   ]
  },
  {
   "cell_type": "code",
   "execution_count": 15,
   "id": "f81907cd",
   "metadata": {},
   "outputs": [],
   "source": [
    "interactions_data.to_csv('interactions_data.csv')"
   ]
  },
  {
   "cell_type": "markdown",
   "id": "f0bfa07a",
   "metadata": {},
   "source": [
    "- Upload to S3"
   ]
  },
  {
   "cell_type": "code",
   "execution_count": 16,
   "id": "fccb1719",
   "metadata": {},
   "outputs": [],
   "source": [
    "interactions_file_path = 'interactions_data.csv'\n",
    "boto3.Session().resource('s3').Bucket(bucket_name).Object(interactions_file_path).upload_file(interactions_file_path)\n",
    "interactions_s3DataPath = \"s3://\"+bucket_name+\"/\"+interactions_file_path"
   ]
  },
  {
   "cell_type": "markdown",
   "id": "e340972c",
   "metadata": {},
   "source": [
    "- User data"
   ]
  },
  {
   "cell_type": "code",
   "execution_count": 21,
   "id": "ed5e73db",
   "metadata": {},
   "outputs": [],
   "source": [
    "user_data=df[['Membership number','Age','Nationality','Gender']]\n",
    "\n",
    "user_data=user_data.rename(columns={'Membership number':'USER_ID'})\n",
    "\n",
    "user_data.dtypes\n",
    "\n",
    "user_data.to_csv('user_data.csv')\n",
    "\n",
    "user_file_path = 'user_data.csv'\n",
    "boto3.Session().resource('s3').Bucket(bucket_name).Object(user_file_path).upload_file(user_file_path)\n",
    "interactions_s3DataPath = \"s3://\"+bucket_name+\"/\"+user_file_path"
   ]
  },
  {
   "cell_type": "code",
   "execution_count": 59,
   "id": "26b02cf7",
   "metadata": {},
   "outputs": [
    {
     "data": {
      "text/html": [
       "<div>\n",
       "<style scoped>\n",
       "    .dataframe tbody tr th:only-of-type {\n",
       "        vertical-align: middle;\n",
       "    }\n",
       "\n",
       "    .dataframe tbody tr th {\n",
       "        vertical-align: top;\n",
       "    }\n",
       "\n",
       "    .dataframe thead th {\n",
       "        text-align: right;\n",
       "    }\n",
       "</style>\n",
       "<table border=\"1\" class=\"dataframe\">\n",
       "  <thead>\n",
       "    <tr style=\"text-align: right;\">\n",
       "      <th></th>\n",
       "      <th>USER_ID</th>\n",
       "      <th>Age</th>\n",
       "      <th>Nationality</th>\n",
       "      <th>Gender</th>\n",
       "    </tr>\n",
       "  </thead>\n",
       "  <tbody>\n",
       "    <tr>\n",
       "      <th>0</th>\n",
       "      <td>203867788688</td>\n",
       "      <td>63</td>\n",
       "      <td>INDIA</td>\n",
       "      <td>Female</td>\n",
       "    </tr>\n",
       "    <tr>\n",
       "      <th>1</th>\n",
       "      <td>131861001206</td>\n",
       "      <td>70</td>\n",
       "      <td>ISRAEL</td>\n",
       "      <td>Male</td>\n",
       "    </tr>\n",
       "    <tr>\n",
       "      <th>2</th>\n",
       "      <td>215800110303</td>\n",
       "      <td>18</td>\n",
       "      <td>GERMANY</td>\n",
       "      <td>Male</td>\n",
       "    </tr>\n",
       "    <tr>\n",
       "      <th>3</th>\n",
       "      <td>51396695047</td>\n",
       "      <td>56</td>\n",
       "      <td>CUBA</td>\n",
       "      <td>Female</td>\n",
       "    </tr>\n",
       "    <tr>\n",
       "      <th>4</th>\n",
       "      <td>70732021477</td>\n",
       "      <td>52</td>\n",
       "      <td>PHILIPPINES</td>\n",
       "      <td>Female</td>\n",
       "    </tr>\n",
       "  </tbody>\n",
       "</table>\n",
       "</div>"
      ],
      "text/plain": [
       "        USER_ID  Age  Nationality  Gender\n",
       "0  203867788688   63        INDIA  Female\n",
       "1  131861001206   70       ISRAEL    Male\n",
       "2  215800110303   18      GERMANY    Male\n",
       "3   51396695047   56         CUBA  Female\n",
       "4   70732021477   52  PHILIPPINES  Female"
      ]
     },
     "execution_count": 59,
     "metadata": {},
     "output_type": "execute_result"
    }
   ],
   "source": [
    "user_data.head()"
   ]
  },
  {
   "cell_type": "markdown",
   "id": "9a123c0f",
   "metadata": {},
   "source": [
    "- ITEM DATA"
   ]
  },
  {
   "cell_type": "code",
   "execution_count": 23,
   "id": "ab4609e6",
   "metadata": {},
   "outputs": [],
   "source": [
    "item_data=df[['item_id','price','item']]\n",
    "\n",
    "item_data=item_data.rename(columns={'item':'CATEGORY_L1'})"
   ]
  },
  {
   "cell_type": "code",
   "execution_count": 60,
   "id": "fce23134",
   "metadata": {},
   "outputs": [
    {
     "data": {
      "text/html": [
       "<div>\n",
       "<style scoped>\n",
       "    .dataframe tbody tr th:only-of-type {\n",
       "        vertical-align: middle;\n",
       "    }\n",
       "\n",
       "    .dataframe tbody tr th {\n",
       "        vertical-align: top;\n",
       "    }\n",
       "\n",
       "    .dataframe thead th {\n",
       "        text-align: right;\n",
       "    }\n",
       "</style>\n",
       "<table border=\"1\" class=\"dataframe\">\n",
       "  <thead>\n",
       "    <tr style=\"text-align: right;\">\n",
       "      <th></th>\n",
       "      <th>item_id</th>\n",
       "      <th>price</th>\n",
       "      <th>CATEGORY_L1</th>\n",
       "    </tr>\n",
       "  </thead>\n",
       "  <tbody>\n",
       "    <tr>\n",
       "      <th>0</th>\n",
       "      <td>10108</td>\n",
       "      <td>102</td>\n",
       "      <td>fragrances</td>\n",
       "    </tr>\n",
       "    <tr>\n",
       "      <th>1</th>\n",
       "      <td>10109</td>\n",
       "      <td>565</td>\n",
       "      <td>gifts</td>\n",
       "    </tr>\n",
       "    <tr>\n",
       "      <th>2</th>\n",
       "      <td>10103</td>\n",
       "      <td>254</td>\n",
       "      <td>toys</td>\n",
       "    </tr>\n",
       "    <tr>\n",
       "      <th>3</th>\n",
       "      <td>10105</td>\n",
       "      <td>53</td>\n",
       "      <td>chocolates</td>\n",
       "    </tr>\n",
       "    <tr>\n",
       "      <th>4</th>\n",
       "      <td>10104</td>\n",
       "      <td>57</td>\n",
       "      <td>wine</td>\n",
       "    </tr>\n",
       "  </tbody>\n",
       "</table>\n",
       "</div>"
      ],
      "text/plain": [
       "   item_id  price CATEGORY_L1\n",
       "0    10108    102  fragrances\n",
       "1    10109    565       gifts\n",
       "2    10103    254        toys\n",
       "3    10105     53  chocolates\n",
       "4    10104     57        wine"
      ]
     },
     "execution_count": 60,
     "metadata": {},
     "output_type": "execute_result"
    }
   ],
   "source": [
    "item_data.head()"
   ]
  },
  {
   "cell_type": "code",
   "execution_count": 24,
   "id": "d504d50d",
   "metadata": {},
   "outputs": [],
   "source": [
    "item_data.to_csv('item_data.csv')"
   ]
  },
  {
   "cell_type": "code",
   "execution_count": 25,
   "id": "609950e9",
   "metadata": {},
   "outputs": [],
   "source": [
    "item_file_path = 'item_data.csv'\n",
    "boto3.Session().resource('s3').Bucket(bucket_name).Object(item_file_path).upload_file(item_file_path)\n",
    "interactions_s3DataPath = \"s3://\"+bucket_name+\"/\"+item_file_path"
   ]
  },
  {
   "cell_type": "markdown",
   "id": "03387c53",
   "metadata": {},
   "source": [
    "- Set the S3 bucket policy\n",
    "\n",
    "- Amazon Personalize needs to be able to read the contents of your S3 bucket. So add a bucket policy which allows that.\n",
    "\n",
    "- Note: Make sure the role you are using to run the code in this notebook has the necessary permissions to modify the S3 bucket policy.\n"
   ]
  },
  {
   "cell_type": "code",
   "execution_count": 26,
   "id": "078d3564",
   "metadata": {},
   "outputs": [
    {
     "data": {
      "text/plain": [
       "{'ResponseMetadata': {'RequestId': '48Z2E57WD06QJTV1',\n",
       "  'HostId': 'Rjix3ezNRGnYxUSQUYy6z+VCK91O7OQHUarvkJjOYzxqJKgDRbyv/o8nzGmlfuvtBoSUZp/LffGTat2ayWmVlQ==',\n",
       "  'HTTPStatusCode': 204,\n",
       "  'HTTPHeaders': {'x-amz-id-2': 'Rjix3ezNRGnYxUSQUYy6z+VCK91O7OQHUarvkJjOYzxqJKgDRbyv/o8nzGmlfuvtBoSUZp/LffGTat2ayWmVlQ==',\n",
       "   'x-amz-request-id': '48Z2E57WD06QJTV1',\n",
       "   'date': 'Fri, 16 Dec 2022 18:35:19 GMT',\n",
       "   'server': 'AmazonS3'},\n",
       "  'RetryAttempts': 0}}"
      ]
     },
     "execution_count": 26,
     "metadata": {},
     "output_type": "execute_result"
    }
   ],
   "source": [
    "s3 = boto3.client(\"s3\")\n",
    "policy = {\n",
    "    \"Version\": \"2012-10-17\",\n",
    "    \"Id\": \"PersonalizeS3BucketAccessPolicy\",\n",
    "    \"Statement\": [\n",
    "        {\n",
    "            \"Sid\": \"PersonalizeS3BucketAccessPolicy\",\n",
    "            \"Effect\": \"Allow\",\n",
    "            \"Principal\": {\n",
    "                \"Service\": \"personalize.amazonaws.com\"\n",
    "            },\n",
    "            \"Action\": [\n",
    "                \"s3:GetObject\",\n",
    "                \"s3:ListBucket\",\n",
    "                \"s3:PutObject\",\n",
    "            ],\n",
    "            \"Resource\": [\n",
    "                \"arn:aws:s3:::{}\".format(bucket_name),\n",
    "                \"arn:aws:s3:::{}/*\".format(bucket_name)\n",
    "            ]\n",
    "        }\n",
    "    ]\n",
    "}\n",
    "\n",
    "s3.put_bucket_policy(Bucket=bucket_name, Policy=json.dumps(policy))"
   ]
  },
  {
   "cell_type": "code",
   "execution_count": 27,
   "id": "8a58fd03",
   "metadata": {},
   "outputs": [
    {
     "name": "stdout",
     "output_type": "stream",
     "text": [
      "{\n",
      "  \"datasetGroupArn\": \"arn:aws:personalize:ap-south-1:689478441425:dataset-group/personalize_ecommerce_ds_group_v2\",\n",
      "  \"domain\": \"ECOMMERCE\",\n",
      "  \"ResponseMetadata\": {\n",
      "    \"RequestId\": \"b96515d1-d190-4cd9-a72c-4ec956afbb20\",\n",
      "    \"HTTPStatusCode\": 200,\n",
      "    \"HTTPHeaders\": {\n",
      "      \"date\": \"Fri, 16 Dec 2022 18:35:33 GMT\",\n",
      "      \"content-type\": \"application/x-amz-json-1.1\",\n",
      "      \"content-length\": \"134\",\n",
      "      \"connection\": \"keep-alive\",\n",
      "      \"x-amzn-requestid\": \"b96515d1-d190-4cd9-a72c-4ec956afbb20\"\n",
      "    },\n",
      "    \"RetryAttempts\": 0\n",
      "  }\n",
      "}\n"
     ]
    }
   ],
   "source": [
    "response = personalize.create_dataset_group(\n",
    "    name='personalize_ecommerce_ds_group_v2',\n",
    "    domain='ECOMMERCE'\n",
    ")\n",
    "\n",
    "dataset_group_arn = response['datasetGroupArn']\n",
    "print(json.dumps(response, indent=2))"
   ]
  },
  {
   "cell_type": "code",
   "execution_count": 28,
   "id": "9bef5846",
   "metadata": {},
   "outputs": [
    {
     "name": "stdout",
     "output_type": "stream",
     "text": [
      "DatasetGroup: CREATE PENDING\n",
      "DatasetGroup: ACTIVE\n",
      "CPU times: user 18.1 ms, sys: 1.43 ms, total: 19.6 ms\n",
      "Wall time: 1min\n"
     ]
    }
   ],
   "source": [
    "%%time\n",
    "\n",
    "max_time = time.time() + 3*60*60 # 3 hours\n",
    "while time.time() < max_time:\n",
    "    describe_dataset_group_response = personalize.describe_dataset_group(\n",
    "        datasetGroupArn = dataset_group_arn\n",
    "    )\n",
    "    status = describe_dataset_group_response[\"datasetGroup\"][\"status\"]\n",
    "    print(\"DatasetGroup: {}\".format(status))\n",
    "    \n",
    "    if status == \"ACTIVE\" or status == \"CREATE FAILED\":\n",
    "        break\n",
    "        \n",
    "    time.sleep(60)"
   ]
  },
  {
   "cell_type": "code",
   "execution_count": 31,
   "id": "9a8865e9",
   "metadata": {},
   "outputs": [
    {
     "name": "stdout",
     "output_type": "stream",
     "text": [
      "{\n",
      "  \"schemaArn\": \"arn:aws:personalize:ap-south-1:689478441425:schema/personalize-ecommerce-users_group0\",\n",
      "  \"ResponseMetadata\": {\n",
      "    \"RequestId\": \"26146524-2e07-4446-8494-b790edff8194\",\n",
      "    \"HTTPStatusCode\": 200,\n",
      "    \"HTTPHeaders\": {\n",
      "      \"date\": \"Fri, 16 Dec 2022 18:36:53 GMT\",\n",
      "      \"content-type\": \"application/x-amz-json-1.1\",\n",
      "      \"content-length\": \"101\",\n",
      "      \"connection\": \"keep-alive\",\n",
      "      \"x-amzn-requestid\": \"26146524-2e07-4446-8494-b790edff8194\"\n",
      "    },\n",
      "    \"RetryAttempts\": 0\n",
      "  }\n",
      "}\n"
     ]
    }
   ],
   "source": [
    "users_schema = schema = {\n",
    "\t\"type\": \"record\",\n",
    "\t\"name\": \"Users\",\n",
    "\t\"namespace\": \"com.amazonaws.personalize.schema\",\n",
    "\t\"fields\": [\n",
    "\t\t{\n",
    "\t\t\t\"name\": \"USER_ID\",\n",
    "\t\t\t\"type\": \"string\"\n",
    "\t\t},\n",
    "\t\t{\n",
    "\t\t\t\"name\": \"Age\",\n",
    "\t\t\t\"type\": \"int\"\n",
    "\t\t},\n",
    "\t\t{\n",
    "\t\t\t\"name\": \"Nationality\",\n",
    "\t\t\t\"type\": \"string\"\n",
    "\t\t},\n",
    "\t\t{\n",
    "\t\t\t\"name\": \"Gender\",\n",
    "\t\t\t\"type\": \"string\"\n",
    "\t\t}\n",
    "\t],\n",
    "\t\"version\": \"1.0\"\n",
    "}\n",
    "\n",
    "create_schema_response = personalize.create_schema(\n",
    "    name = \"personalize-ecommerce-users_group0\",\n",
    "    domain = \"ECOMMERCE\",\n",
    "    schema = json.dumps(users_schema)\n",
    ")\n",
    "\n",
    "users_schema_arn = create_schema_response['schemaArn']\n",
    "print(json.dumps(create_schema_response, indent=2))"
   ]
  },
  {
   "cell_type": "code",
   "execution_count": 32,
   "id": "038e342e",
   "metadata": {},
   "outputs": [
    {
     "name": "stdout",
     "output_type": "stream",
     "text": [
      "{\n",
      "  \"schemaArn\": \"arn:aws:personalize:ap-south-1:689478441425:schema/personalize-ecommerce-interatn_group0\",\n",
      "  \"ResponseMetadata\": {\n",
      "    \"RequestId\": \"5435a237-b238-4260-bfe3-061e0841dc2d\",\n",
      "    \"HTTPStatusCode\": 200,\n",
      "    \"HTTPHeaders\": {\n",
      "      \"date\": \"Fri, 16 Dec 2022 18:36:57 GMT\",\n",
      "      \"content-type\": \"application/x-amz-json-1.1\",\n",
      "      \"content-length\": \"104\",\n",
      "      \"connection\": \"keep-alive\",\n",
      "      \"x-amzn-requestid\": \"5435a237-b238-4260-bfe3-061e0841dc2d\"\n",
      "    },\n",
      "    \"RetryAttempts\": 0\n",
      "  }\n",
      "}\n"
     ]
    }
   ],
   "source": [
    "interactions_schema = schema = {\n",
    "\t\"type\": \"record\",\n",
    "\t\"name\": \"Interactions\",\n",
    "\t\"namespace\": \"com.amazonaws.personalize.schema\",\n",
    "\t\"fields\": [\n",
    "\t\t{\n",
    "\t\t\t\"name\": \"USER_ID\",\n",
    "\t\t\t\"type\": \"string\"\n",
    "\t\t},\n",
    "\t\t{\n",
    "\t\t\t\"name\": \"ITEM_ID\",\n",
    "\t\t\t\"type\": \"string\"\n",
    "\t\t},\n",
    "\t\t{\n",
    "\t\t\t\"name\": \"TIMESTAMP\",\n",
    "\t\t\t\"type\": \"long\"\n",
    "\t\t},\n",
    "\t\t{\n",
    "\t\t\t\"name\": \"EVENT_TYPE\",\n",
    "\t\t\t\"type\": \"string\"\n",
    "\t\t},\n",
    "\t\t{\n",
    "\t\t\t\"name\": \"EVENT_VALUE\",\n",
    "\t\t\t\"type\": \"float\"\n",
    "\t\t}\n",
    "\t],\n",
    "\t\"version\": \"1.0\"\n",
    "}\n",
    "\n",
    "create_schema_response = personalize.create_schema(\n",
    "    name = \"personalize-ecommerce-interatn_group0\",\n",
    "    domain = \"ECOMMERCE\",\n",
    "    schema = json.dumps(interactions_schema)\n",
    ")\n",
    "\n",
    "interaction_schema_arn = create_schema_response['schemaArn']\n",
    "print(json.dumps(create_schema_response, indent=2))"
   ]
  },
  {
   "cell_type": "code",
   "execution_count": 33,
   "id": "f6068ffc",
   "metadata": {},
   "outputs": [
    {
     "name": "stdout",
     "output_type": "stream",
     "text": [
      "{\n",
      "  \"schemaArn\": \"arn:aws:personalize:ap-south-1:689478441425:schema/personalize-ecommerce-item_group0\",\n",
      "  \"ResponseMetadata\": {\n",
      "    \"RequestId\": \"e68f7f50-f876-4c60-9f1c-18fe5eb09f58\",\n",
      "    \"HTTPStatusCode\": 200,\n",
      "    \"HTTPHeaders\": {\n",
      "      \"date\": \"Fri, 16 Dec 2022 18:37:01 GMT\",\n",
      "      \"content-type\": \"application/x-amz-json-1.1\",\n",
      "      \"content-length\": \"100\",\n",
      "      \"connection\": \"keep-alive\",\n",
      "      \"x-amzn-requestid\": \"e68f7f50-f876-4c60-9f1c-18fe5eb09f58\"\n",
      "    },\n",
      "    \"RetryAttempts\": 0\n",
      "  }\n",
      "}\n"
     ]
    }
   ],
   "source": [
    "item_schema = schema = {\n",
    "\t\"type\": \"record\",\n",
    "\t\"name\": \"Items\",\n",
    "\t\"namespace\": \"com.amazonaws.personalize.schema\",\n",
    "\t\"fields\": [\n",
    "\t\t{\n",
    "\t\t\t\"name\": \"ITEM_ID\",\n",
    "\t\t\t\"type\": \"string\"\n",
    "\t\t},\n",
    "\t\t{\n",
    "\t\t\t\"name\": \"PRICE\",\n",
    "\t\t\t\"type\": \"float\"\n",
    "\t\t},\n",
    "\t\t{\n",
    "\t\t\t\"name\": \"CATEGORY_L1\",\n",
    " \"type\": [\n",
    " \"string\"\n",
    " ],\n",
    " \"categorical\": True\n",
    "\t\t}\n",
    "\t],\n",
    "\t\"version\": \"1.0\"\n",
    "}\n",
    "\n",
    "create_schema_response = personalize.create_schema(\n",
    "    name = \"personalize-ecommerce-item_group0\",\n",
    "    domain = \"ECOMMERCE\",\n",
    "    schema = json.dumps(item_schema)\n",
    ")\n",
    "\n",
    "item_schema_arn = create_schema_response['schemaArn']\n",
    "print(json.dumps(create_schema_response, indent=2))"
   ]
  },
  {
   "cell_type": "code",
   "execution_count": 34,
   "id": "b5d4a0f7",
   "metadata": {},
   "outputs": [
    {
     "name": "stdout",
     "output_type": "stream",
     "text": [
      "{\n",
      "  \"datasetArn\": \"arn:aws:personalize:ap-south-1:689478441425:dataset/personalize_ecommerce_ds_group_v2/INTERACTIONS\",\n",
      "  \"ResponseMetadata\": {\n",
      "    \"RequestId\": \"7ec2d95c-8dde-4dfe-b805-37ac365022fd\",\n",
      "    \"HTTPStatusCode\": 200,\n",
      "    \"HTTPHeaders\": {\n",
      "      \"date\": \"Fri, 16 Dec 2022 18:37:03 GMT\",\n",
      "      \"content-type\": \"application/x-amz-json-1.1\",\n",
      "      \"content-length\": \"115\",\n",
      "      \"connection\": \"keep-alive\",\n",
      "      \"x-amzn-requestid\": \"7ec2d95c-8dde-4dfe-b805-37ac365022fd\"\n",
      "    },\n",
      "    \"RetryAttempts\": 0\n",
      "  }\n",
      "}\n"
     ]
    }
   ],
   "source": [
    "dataset_type = \"INTERACTIONS\"\n",
    "\n",
    "create_dataset_response = personalize.create_dataset(\n",
    "    name = \"personalize_ecommerce_demo_interactions\",\n",
    "    datasetType = dataset_type,\n",
    "    datasetGroupArn = dataset_group_arn,\n",
    "    schemaArn = interaction_schema_arn\n",
    ")\n",
    "\n",
    "interactions_dataset_arn = create_dataset_response['datasetArn']\n",
    "print(json.dumps(create_dataset_response, indent=2))"
   ]
  },
  {
   "cell_type": "code",
   "execution_count": 35,
   "id": "dea008ff",
   "metadata": {},
   "outputs": [
    {
     "name": "stdout",
     "output_type": "stream",
     "text": [
      "{\n",
      "  \"datasetArn\": \"arn:aws:personalize:ap-south-1:689478441425:dataset/personalize_ecommerce_ds_group_v2/USERS\",\n",
      "  \"ResponseMetadata\": {\n",
      "    \"RequestId\": \"e25184d9-25eb-418f-8db1-33f167f448b5\",\n",
      "    \"HTTPStatusCode\": 200,\n",
      "    \"HTTPHeaders\": {\n",
      "      \"date\": \"Fri, 16 Dec 2022 18:37:04 GMT\",\n",
      "      \"content-type\": \"application/x-amz-json-1.1\",\n",
      "      \"content-length\": \"108\",\n",
      "      \"connection\": \"keep-alive\",\n",
      "      \"x-amzn-requestid\": \"e25184d9-25eb-418f-8db1-33f167f448b5\"\n",
      "    },\n",
      "    \"RetryAttempts\": 0\n",
      "  }\n",
      "}\n"
     ]
    }
   ],
   "source": [
    "dataset_type = \"USERS\"\n",
    "\n",
    "create_dataset_response = personalize.create_dataset(\n",
    "    name = \"personalize_ecommerce_demo_users1\",\n",
    "    datasetType = dataset_type,\n",
    "    datasetGroupArn = dataset_group_arn,\n",
    "    schemaArn = users_schema_arn\n",
    ")\n",
    "\n",
    "user_dataset_arn = create_dataset_response['datasetArn']\n",
    "print(json.dumps(create_dataset_response, indent=2))"
   ]
  },
  {
   "cell_type": "code",
   "execution_count": 36,
   "id": "3f608211",
   "metadata": {},
   "outputs": [
    {
     "name": "stdout",
     "output_type": "stream",
     "text": [
      "{\n",
      "  \"datasetArn\": \"arn:aws:personalize:ap-south-1:689478441425:dataset/personalize_ecommerce_ds_group_v2/ITEMS\",\n",
      "  \"ResponseMetadata\": {\n",
      "    \"RequestId\": \"54d43471-0712-418a-88f0-579cbfffb563\",\n",
      "    \"HTTPStatusCode\": 200,\n",
      "    \"HTTPHeaders\": {\n",
      "      \"date\": \"Fri, 16 Dec 2022 18:37:05 GMT\",\n",
      "      \"content-type\": \"application/x-amz-json-1.1\",\n",
      "      \"content-length\": \"108\",\n",
      "      \"connection\": \"keep-alive\",\n",
      "      \"x-amzn-requestid\": \"54d43471-0712-418a-88f0-579cbfffb563\"\n",
      "    },\n",
      "    \"RetryAttempts\": 0\n",
      "  }\n",
      "}\n"
     ]
    }
   ],
   "source": [
    "dataset_type = \"ITEMS\"\n",
    "\n",
    "create_dataset_response = personalize.create_dataset(\n",
    "    name = \"personalize_ecommerce_demo_items\",\n",
    "    datasetType = dataset_type,\n",
    "    datasetGroupArn = dataset_group_arn,\n",
    "    schemaArn = item_schema_arn\n",
    ")\n",
    "\n",
    "item_dataset_arn = create_dataset_response['datasetArn']\n",
    "print(json.dumps(create_dataset_response, indent=2))"
   ]
  },
  {
   "cell_type": "code",
   "execution_count": 37,
   "id": "920fecc1",
   "metadata": {},
   "outputs": [
    {
     "name": "stdout",
     "output_type": "stream",
     "text": [
      "arn:aws:iam::689478441425:role/PersonalizeRoleEcommerceDemoRecommender\n"
     ]
    }
   ],
   "source": [
    "iam = boto3.client(\"iam\")\n",
    "\n",
    "role_name = \"PersonalizeRoleEcommerceDemoRecommender\"\n",
    "assume_role_policy_document = {\n",
    "    \"Version\": \"2012-10-17\",\n",
    "    \"Statement\": [\n",
    "        {\n",
    "          \"Effect\": \"Allow\",\n",
    "          \"Principal\": {\n",
    "            \"Service\": \"personalize.amazonaws.com\"\n",
    "          },\n",
    "          \"Action\": \"sts:AssumeRole\"\n",
    "        }\n",
    "    ]\n",
    "}\n",
    "\n",
    "create_role_response = iam.create_role(\n",
    "    RoleName = role_name,\n",
    "    AssumeRolePolicyDocument = json.dumps(assume_role_policy_document)\n",
    ")\n",
    "\n",
    "# AmazonPersonalizeFullAccess provides access to any S3 bucket with a name that includes \"personalize\" or \"Personalize\" \n",
    "# if you would like to use a bucket with a different name, please consider creating and attaching a new policy\n",
    "# that provides read access to your bucket or attaching the AmazonS3ReadOnlyAccess policy to the role\n",
    "policy_arn = \"arn:aws:iam::aws:policy/service-role/AmazonPersonalizeFullAccess\"\n",
    "iam.attach_role_policy(\n",
    "    RoleName = role_name,\n",
    "    PolicyArn = policy_arn\n",
    ")\n",
    "\n",
    "# Now add S3 support\n",
    "iam.attach_role_policy(\n",
    "    PolicyArn='arn:aws:iam::aws:policy/AmazonS3FullAccess',\n",
    "    RoleName=role_name\n",
    ")\n",
    "time.sleep(60) # wait for a minute to allow IAM role policy attachment to propagate\n",
    "\n",
    "role_arn = create_role_response[\"Role\"][\"Arn\"]\n",
    "print(role_arn)"
   ]
  },
  {
   "cell_type": "code",
   "execution_count": 91,
   "id": "c200a956",
   "metadata": {},
   "outputs": [],
   "source": [
    "#interactions_dataset_arn='arn:aws:personalize:ap-south-1:428544002405:dataset/personalize_ecommerce_ds_group/INTERACTIONS'"
   ]
  },
  {
   "cell_type": "code",
   "execution_count": 38,
   "id": "647ec2d9",
   "metadata": {},
   "outputs": [
    {
     "name": "stdout",
     "output_type": "stream",
     "text": [
      "{\n",
      "  \"datasetImportJobArn\": \"arn:aws:personalize:ap-south-1:689478441425:dataset-import-job/personalize_ecommerce_demo_interactions_import_3\",\n",
      "  \"ResponseMetadata\": {\n",
      "    \"RequestId\": \"4a62af65-cba8-4d12-ad7a-0c5aae23ddaa\",\n",
      "    \"HTTPStatusCode\": 200,\n",
      "    \"HTTPHeaders\": {\n",
      "      \"date\": \"Fri, 16 Dec 2022 18:38:07 GMT\",\n",
      "      \"content-type\": \"application/x-amz-json-1.1\",\n",
      "      \"content-length\": \"137\",\n",
      "      \"connection\": \"keep-alive\",\n",
      "      \"x-amzn-requestid\": \"4a62af65-cba8-4d12-ad7a-0c5aae23ddaa\"\n",
      "    },\n",
      "    \"RetryAttempts\": 0\n",
      "  }\n",
      "}\n"
     ]
    }
   ],
   "source": [
    "create_interactions_dataset_import_job_response = personalize.create_dataset_import_job(\n",
    "    jobName = \"personalize_ecommerce_demo_interactions_import_3\",\n",
    "    datasetArn = interactions_dataset_arn,\n",
    "    dataSource = {\n",
    "        \"dataLocation\": \"s3://{}/{}\".format(bucket_name, interactions_file_path)\n",
    "    },\n",
    "    roleArn = role_arn\n",
    ")\n",
    "\n",
    "dataset_interactions_import_job_arn = create_interactions_dataset_import_job_response['datasetImportJobArn']\n",
    "print(json.dumps(create_interactions_dataset_import_job_response, indent=2))"
   ]
  },
  {
   "cell_type": "code",
   "execution_count": 39,
   "id": "b8974482",
   "metadata": {},
   "outputs": [
    {
     "name": "stdout",
     "output_type": "stream",
     "text": [
      "{\n",
      "  \"datasetImportJobArn\": \"arn:aws:personalize:ap-south-1:689478441425:dataset-import-job/personalize_ecommerce_demo_user_import_3\",\n",
      "  \"ResponseMetadata\": {\n",
      "    \"RequestId\": \"ec3bda57-16a7-4b2e-a450-8ae1c3e9b56b\",\n",
      "    \"HTTPStatusCode\": 200,\n",
      "    \"HTTPHeaders\": {\n",
      "      \"date\": \"Fri, 16 Dec 2022 18:38:39 GMT\",\n",
      "      \"content-type\": \"application/x-amz-json-1.1\",\n",
      "      \"content-length\": \"129\",\n",
      "      \"connection\": \"keep-alive\",\n",
      "      \"x-amzn-requestid\": \"ec3bda57-16a7-4b2e-a450-8ae1c3e9b56b\"\n",
      "    },\n",
      "    \"RetryAttempts\": 0\n",
      "  }\n",
      "}\n"
     ]
    }
   ],
   "source": [
    "create_user_dataset_import_job_response = personalize.create_dataset_import_job(\n",
    "    jobName = \"personalize_ecommerce_demo_user_import_3\",\n",
    "    datasetArn = user_dataset_arn,\n",
    "    dataSource = {\n",
    "        \"dataLocation\": \"s3://{}/{}\".format(bucket_name, user_file_path)\n",
    "    },\n",
    "    roleArn = role_arn\n",
    ")\n",
    "\n",
    "dataset_user_import_job_arn = create_user_dataset_import_job_response['datasetImportJobArn']\n",
    "print(json.dumps(create_user_dataset_import_job_response, indent=2))"
   ]
  },
  {
   "cell_type": "code",
   "execution_count": 40,
   "id": "eea5c0ec",
   "metadata": {},
   "outputs": [
    {
     "name": "stdout",
     "output_type": "stream",
     "text": [
      "{\n",
      "  \"datasetImportJobArn\": \"arn:aws:personalize:ap-south-1:689478441425:dataset-import-job/personalize_ecommerce_demo_item_import_3\",\n",
      "  \"ResponseMetadata\": {\n",
      "    \"RequestId\": \"1dfce189-bbc9-40af-94a8-05bc3f0ea2ca\",\n",
      "    \"HTTPStatusCode\": 200,\n",
      "    \"HTTPHeaders\": {\n",
      "      \"date\": \"Fri, 16 Dec 2022 18:38:40 GMT\",\n",
      "      \"content-type\": \"application/x-amz-json-1.1\",\n",
      "      \"content-length\": \"129\",\n",
      "      \"connection\": \"keep-alive\",\n",
      "      \"x-amzn-requestid\": \"1dfce189-bbc9-40af-94a8-05bc3f0ea2ca\"\n",
      "    },\n",
      "    \"RetryAttempts\": 0\n",
      "  }\n",
      "}\n"
     ]
    }
   ],
   "source": [
    "create_item_dataset_import_job_response = personalize.create_dataset_import_job(\n",
    "    jobName = \"personalize_ecommerce_demo_item_import_3\",\n",
    "    datasetArn = item_dataset_arn,\n",
    "    dataSource = {\n",
    "        \"dataLocation\": \"s3://{}/{}\".format(bucket_name, item_file_path)\n",
    "    },\n",
    "    roleArn = role_arn\n",
    ")\n",
    "\n",
    "dataset_item_import_job_arn = create_item_dataset_import_job_response['datasetImportJobArn']\n",
    "print(json.dumps(create_item_dataset_import_job_response, indent=2))"
   ]
  },
  {
   "cell_type": "code",
   "execution_count": 41,
   "id": "18e8914a",
   "metadata": {},
   "outputs": [
    {
     "name": "stdout",
     "output_type": "stream",
     "text": [
      "DatasetImportJob: CREATE IN_PROGRESS\n",
      "DatasetImportJob: CREATE IN_PROGRESS\n",
      "DatasetImportJob: CREATE IN_PROGRESS\n",
      "DatasetImportJob: ACTIVE\n",
      "CPU times: user 41.9 ms, sys: 6.29 ms, total: 48.2 ms\n",
      "Wall time: 3min\n"
     ]
    }
   ],
   "source": [
    "%%time\n",
    "\n",
    "max_time = time.time() + 3*60*60 # 3 hours\n",
    "while time.time() < max_time:\n",
    "    describe_dataset_import_job_response = personalize.describe_dataset_import_job(\n",
    "        datasetImportJobArn = dataset_interactions_import_job_arn\n",
    "    )\n",
    "    status = describe_dataset_import_job_response[\"datasetImportJob\"]['status']\n",
    "    print(\"DatasetImportJob: {}\".format(status))\n",
    "    \n",
    "    if status == \"ACTIVE\" or status == \"CREATE FAILED\":\n",
    "        break\n",
    "        \n",
    "    time.sleep(60)"
   ]
  },
  {
   "cell_type": "code",
   "execution_count": 42,
   "id": "f6017811",
   "metadata": {},
   "outputs": [
    {
     "name": "stdout",
     "output_type": "stream",
     "text": [
      "DatasetImportJob: ACTIVE\n",
      "CPU times: user 423 µs, sys: 3.88 ms, total: 4.31 ms\n",
      "Wall time: 12.4 ms\n"
     ]
    }
   ],
   "source": [
    "%%time\n",
    "\n",
    "max_time = time.time() + 3*60*60 # 3 hours\n",
    "while time.time() < max_time:\n",
    "    describe_dataset_user_import_job_arn = personalize.describe_dataset_import_job(\n",
    "        datasetImportJobArn = dataset_user_import_job_arn\n",
    "    )\n",
    "    status = describe_dataset_import_job_response[\"datasetImportJob\"]['status']\n",
    "    print(\"DatasetImportJob: {}\".format(status))\n",
    "    \n",
    "    if status == \"ACTIVE\" or status == \"CREATE FAILED\":\n",
    "        break\n",
    "        \n",
    "    time.sleep(60)"
   ]
  },
  {
   "cell_type": "code",
   "execution_count": 43,
   "id": "bbf37d85",
   "metadata": {},
   "outputs": [
    {
     "name": "stdout",
     "output_type": "stream",
     "text": [
      "DatasetImportJob: ACTIVE\n",
      "CPU times: user 3.53 ms, sys: 0 ns, total: 3.53 ms\n",
      "Wall time: 18.1 ms\n"
     ]
    }
   ],
   "source": [
    "%%time\n",
    "\n",
    "max_time = time.time() + 3*60*60 # 3 hours\n",
    "while time.time() < max_time:\n",
    "    describe_dataset_item_import_job_arn = personalize.describe_dataset_import_job(\n",
    "        datasetImportJobArn = dataset_item_import_job_arn\n",
    "    )\n",
    "    status = describe_dataset_import_job_response[\"datasetImportJob\"]['status']\n",
    "    print(\"DatasetImportJob: {}\".format(status))\n",
    "    \n",
    "    if status == \"ACTIVE\" or status == \"CREATE FAILED\":\n",
    "        break\n",
    "        \n",
    "    time.sleep(60)"
   ]
  },
  {
   "cell_type": "markdown",
   "id": "9fc25b40",
   "metadata": {},
   "source": [
    "- Choose a recommender use cases"
   ]
  },
  {
   "cell_type": "code",
   "execution_count": 44,
   "id": "f18c8264",
   "metadata": {},
   "outputs": [
    {
     "data": {
      "text/plain": [
       "[{'name': 'aws-ecomm-customers-who-viewed-x-also-viewed',\n",
       "  'recipeArn': 'arn:aws:personalize:::recipe/aws-ecomm-customers-who-viewed-x-also-viewed',\n",
       "  'status': 'ACTIVE',\n",
       "  'creationDateTime': datetime.datetime(2019, 6, 10, 0, 0, tzinfo=tzlocal()),\n",
       "  'lastUpdatedDateTime': datetime.datetime(2022, 12, 12, 16, 29, 40, 39000, tzinfo=tzlocal()),\n",
       "  'domain': 'ECOMMERCE'},\n",
       " {'name': 'aws-ecomm-frequently-bought-together',\n",
       "  'recipeArn': 'arn:aws:personalize:::recipe/aws-ecomm-frequently-bought-together',\n",
       "  'status': 'ACTIVE',\n",
       "  'creationDateTime': datetime.datetime(2019, 6, 10, 0, 0, tzinfo=tzlocal()),\n",
       "  'lastUpdatedDateTime': datetime.datetime(2022, 12, 12, 16, 29, 40, 39000, tzinfo=tzlocal()),\n",
       "  'domain': 'ECOMMERCE'},\n",
       " {'name': 'aws-ecomm-popular-items-by-purchases',\n",
       "  'recipeArn': 'arn:aws:personalize:::recipe/aws-ecomm-popular-items-by-purchases',\n",
       "  'status': 'ACTIVE',\n",
       "  'creationDateTime': datetime.datetime(2019, 6, 10, 0, 0, tzinfo=tzlocal()),\n",
       "  'lastUpdatedDateTime': datetime.datetime(2022, 12, 12, 16, 29, 40, 39000, tzinfo=tzlocal()),\n",
       "  'domain': 'ECOMMERCE'},\n",
       " {'name': 'aws-ecomm-popular-items-by-views',\n",
       "  'recipeArn': 'arn:aws:personalize:::recipe/aws-ecomm-popular-items-by-views',\n",
       "  'status': 'ACTIVE',\n",
       "  'creationDateTime': datetime.datetime(2019, 6, 10, 0, 0, tzinfo=tzlocal()),\n",
       "  'lastUpdatedDateTime': datetime.datetime(2022, 12, 12, 16, 29, 40, 39000, tzinfo=tzlocal()),\n",
       "  'domain': 'ECOMMERCE'},\n",
       " {'name': 'aws-ecomm-recommended-for-you',\n",
       "  'recipeArn': 'arn:aws:personalize:::recipe/aws-ecomm-recommended-for-you',\n",
       "  'status': 'ACTIVE',\n",
       "  'creationDateTime': datetime.datetime(2019, 6, 10, 0, 0, tzinfo=tzlocal()),\n",
       "  'lastUpdatedDateTime': datetime.datetime(2022, 12, 12, 16, 29, 40, 39000, tzinfo=tzlocal()),\n",
       "  'domain': 'ECOMMERCE'}]"
      ]
     },
     "metadata": {},
     "output_type": "display_data"
    }
   ],
   "source": [
    "available_recipes = personalize.list_recipes(domain='ECOMMERCE') # See a list of recommenders for the domain. \n",
    "display (available_recipes['recipes'])"
   ]
  },
  {
   "cell_type": "code",
   "execution_count": 46,
   "id": "3f1bec1f",
   "metadata": {},
   "outputs": [
    {
     "name": "stdout",
     "output_type": "stream",
     "text": [
      "{\"recommenderArn\": \"arn:aws:personalize:ap-south-1:689478441425:recommender/recommended_for_you_demo\", \"ResponseMetadata\": {\"RequestId\": \"7a688e85-c3c9-4e3b-866a-83b7bbc2c935\", \"HTTPStatusCode\": 200, \"HTTPHeaders\": {\"date\": \"Fri, 16 Dec 2022 18:43:05 GMT\", \"content-type\": \"application/x-amz-json-1.1\", \"content-length\": \"101\", \"connection\": \"keep-alive\", \"x-amzn-requestid\": \"7a688e85-c3c9-4e3b-866a-83b7bbc2c935\"}, \"RetryAttempts\": 0}}\n"
     ]
    }
   ],
   "source": [
    "create_recommender_response = personalize.create_recommender(\n",
    "  name = 'recommended_for_you_demo',\n",
    "  recipeArn = 'arn:aws:personalize:::recipe/aws-ecomm-recommended-for-you',\n",
    "  datasetGroupArn = dataset_group_arn\n",
    ")\n",
    "recommended_for_you_arn = create_recommender_response[\"recommenderArn\"]\n",
    "print (json.dumps(create_recommender_response))"
   ]
  },
  {
   "cell_type": "code",
   "execution_count": 47,
   "id": "6d5bef21",
   "metadata": {},
   "outputs": [
    {
     "name": "stdout",
     "output_type": "stream",
     "text": [
      "solution_arn:  arn:aws:personalize:ap-south-1:689478441425:solution/customised-solution\n"
     ]
    }
   ],
   "source": [
    "create_solution_response = personalize.create_solution(name = 'customised-solution',\n",
    "recipeArn = 'arn:aws:personalize:::recipe/aws-user-personalization',\n",
    "datasetGroupArn = dataset_group_arn\n",
    "                                                       \n",
    ")\n",
    "solution_arn = create_solution_response['solutionArn']\n",
    "print('solution_arn: ', solution_arn)"
   ]
  },
  {
   "cell_type": "markdown",
   "id": "406b045a",
   "metadata": {},
   "source": [
    "- Solution Version Response"
   ]
  },
  {
   "cell_type": "code",
   "execution_count": 48,
   "id": "b3754540",
   "metadata": {},
   "outputs": [
    {
     "name": "stdout",
     "output_type": "stream",
     "text": [
      "solution_version_arn: arn:aws:personalize:ap-south-1:689478441425:solution/customised-solution/fc652314\n"
     ]
    }
   ],
   "source": [
    "create_solution_version_response = personalize.create_solution_version(solutionArn =\n",
    "solution_arn,\n",
    "trainingMode='FULL')\n",
    "new_solution_version_arn = create_solution_version_response['solutionVersionArn']\n",
    "print('solution_version_arn:', new_solution_version_arn)"
   ]
  },
  {
   "cell_type": "code",
   "execution_count": 51,
   "id": "c612ccc7",
   "metadata": {},
   "outputs": [
    {
     "name": "stdout",
     "output_type": "stream",
     "text": [
      "{'coverage': 1.0, 'mean_reciprocal_rank_at_25': 0.4158, 'normalized_discounted_cumulative_gain_at_10': 0.6501, 'normalized_discounted_cumulative_gain_at_25': 0.6557, 'normalized_discounted_cumulative_gain_at_5': 0.6142, 'precision_at_10': 0.1083, 'precision_at_25': 0.0442, 'precision_at_5': 0.194}\n"
     ]
    }
   ],
   "source": [
    "response = personalize.get_solution_metrics(\n",
    "    solutionVersionArn = new_solution_version_arn)\n",
    "\n",
    "print(response['metrics'])"
   ]
  },
  {
   "cell_type": "markdown",
   "id": "d7e0415e",
   "metadata": {},
   "source": [
    "- Wait for solution to be in active state. It will take sometime dpending on the dataset"
   ]
  },
  {
   "cell_type": "markdown",
   "id": "6add8153",
   "metadata": {},
   "source": [
    "- Create Campaign"
   ]
  },
  {
   "cell_type": "code",
   "execution_count": 52,
   "id": "9ea4579d",
   "metadata": {},
   "outputs": [
    {
     "name": "stdout",
     "output_type": "stream",
     "text": [
      "campaign_arn: arn:aws:personalize:ap-south-1:689478441425:campaign/campaign-1\n"
     ]
    }
   ],
   "source": [
    "create_campaign_response = personalize.create_campaign(\n",
    "name = 'campaign-1',\n",
    "solutionVersionArn = new_solution_version_arn,\n",
    "minProvisionedTPS = 1,\n",
    "campaignConfig = {\"itemExplorationConfig\": {\"explorationWeight\": \"0.3\",\n",
    "\"explorationItemAgeCutOff\": \"30\"}}\n",
    ")\n",
    "campaign_arn = create_campaign_response['campaignArn']\n",
    "print('campaign_arn:', campaign_arn)"
   ]
  },
  {
   "cell_type": "code",
   "execution_count": 56,
   "id": "f75380bf",
   "metadata": {},
   "outputs": [
    {
     "name": "stdout",
     "output_type": "stream",
     "text": [
      "RID-f3-4ffe-ae34-7b1a11d25882-CID-1417b7\n"
     ]
    }
   ],
   "source": [
    "rec_response = personalize_runtime.get_recommendations(campaignArn = campaign_arn,\n",
    "userId = '1234')\n",
    "print(rec_response['recommendationId'])"
   ]
  },
  {
   "cell_type": "code",
   "execution_count": 57,
   "id": "a970b9df",
   "metadata": {},
   "outputs": [
    {
     "data": {
      "text/plain": [
       "[{'itemId': '10108', 'score': 0.1775267},\n",
       " {'itemId': '10102', 'score': 0.150655},\n",
       " {'itemId': '10103', 'score': 0.1159182},\n",
       " {'itemId': '10105', 'score': 0.1045372},\n",
       " {'itemId': '10104', 'score': 0.092336},\n",
       " {'itemId': '10110', 'score': 0.0685957},\n",
       " {'itemId': '10109', 'score': 0.0609578},\n",
       " {'itemId': '10106', 'score': 0.0560191},\n",
       " {'itemId': '10111', 'score': 0.045798},\n",
       " {'itemId': '10112', 'score': 0.0323401},\n",
       " {'itemId': '10107', 'score': 0.0238703},\n",
       " {'itemId': '10114', 'score': 0.0198007},\n",
       " {'itemId': '10101', 'score': 0.0190845},\n",
       " {'itemId': '10115', 'score': 0.0162389},\n",
       " {'itemId': '10113', 'score': 0.0161717}]"
      ]
     },
     "execution_count": 57,
     "metadata": {},
     "output_type": "execute_result"
    }
   ],
   "source": [
    "rec_response['itemList']"
   ]
  },
  {
   "cell_type": "code",
   "execution_count": null,
   "id": "4f027f66",
   "metadata": {},
   "outputs": [],
   "source": []
  }
 ],
 "metadata": {
  "kernelspec": {
   "display_name": "conda_python3",
   "language": "python",
   "name": "conda_python3"
  },
  "language_info": {
   "codemirror_mode": {
    "name": "ipython",
    "version": 3
   },
   "file_extension": ".py",
   "mimetype": "text/x-python",
   "name": "python",
   "nbconvert_exporter": "python",
   "pygments_lexer": "ipython3",
   "version": "3.8.12"
  }
 },
 "nbformat": 4,
 "nbformat_minor": 5
}
